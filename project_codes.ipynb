{
  "cells": [
    {
      "cell_type": "markdown",
      "source": [
        "# split data"
      ],
      "metadata": {
        "id": "riy3ZOI8e5IW"
      }
    },
    {
      "cell_type": "code",
      "source": [
        "import shutil\n",
        "import os\n",
        "import random\n",
        "\n",
        "d = \"/content/drive/MyDrive/CV/project/data_copy/sample\"\n",
        "new_d = \"/content/drive/MyDrive/CV/project/images_small/\"\n",
        "count = 0\n",
        "\n",
        "for root, dir_name, file_names in os.walk(d):\n",
        "  for file_name in file_names:\n",
        "    num = random.random()\n",
        "    try:\n",
        "      if num < 0.8:\n",
        "          shutil.copy(root+\"/\"+file_name, new_d+\"train/train/\"+file_name)\n",
        "      elif num < 0.9:\n",
        "          shutil.copy(root+\"/\"+file_name, new_d+\"val/val/\"+file_name)\n",
        "      else:\n",
        "          shutil.copy(root+\"/\"+file_name, new_d+\"test/test/\"+file_name)\n",
        "      count += 1\n",
        "    except:\n",
        "      continue\n",
        "print(count)"
      ],
      "metadata": {
        "id": "9joaB_ymfAbB",
        "colab": {
          "base_uri": "https://localhost:8080/"
        },
        "outputId": "a0e81694-ad35-4133-8bb2-3ae45b64ccc2"
      },
      "execution_count": null,
      "outputs": [
        {
          "output_type": "stream",
          "name": "stdout",
          "text": [
            "11077\n"
          ]
        }
      ]
    },
    {
      "cell_type": "markdown",
      "source": [
        "# mount drive and import library"
      ],
      "metadata": {
        "id": "6FEHei241BmO"
      }
    },
    {
      "cell_type": "code",
      "execution_count": 1,
      "metadata": {
        "colab": {
          "base_uri": "https://localhost:8080/"
        },
        "id": "DFqmvUsVHSoG",
        "outputId": "969fdeec-8209-4b9d-c64e-f5e0d90ec4f8"
      },
      "outputs": [
        {
          "output_type": "stream",
          "name": "stdout",
          "text": [
            "Mounted at /content/drive\n"
          ]
        }
      ],
      "source": [
        "from google.colab import drive\n",
        "drive.mount('/content/drive', force_remount=True)"
      ]
    },
    {
      "cell_type": "code",
      "execution_count": 2,
      "metadata": {
        "id": "SpduFc2XHxSS"
      },
      "outputs": [],
      "source": [
        "import torch\n",
        "from torch import nn\n",
        "from torch.utils.data import Dataset, DataLoader, random_split, Subset\n",
        "import torch.nn.functional as F\n",
        "\n",
        "import torchvision\n",
        "from torchvision import transforms, datasets, models\n",
        "from torchvision.datasets import ImageFolder\n",
        "\n",
        "from sklearn.model_selection import train_test_split\n",
        "import numpy as np\n",
        "from collections import Counter\n",
        "from PIL import Image\n",
        "import matplotlib.pyplot as plt\n",
        "import os\n",
        "from PIL import Image\n",
        "import random\n",
        "from skimage.color import rgb2lab, lab2rgb, rgb2gray\n",
        "import math"
      ]
    },
    {
      "cell_type": "code",
      "execution_count": 3,
      "metadata": {
        "id": "oFNTsPI1j4aB"
      },
      "outputs": [],
      "source": [
        "device = \"cuda\" if torch.cuda.is_available() else \"cpu\""
      ]
    },
    {
      "cell_type": "markdown",
      "metadata": {
        "id": "HEJ8H9XJ7rnX"
      },
      "source": [
        "# helper function"
      ]
    },
    {
      "cell_type": "code",
      "execution_count": 4,
      "metadata": {
        "id": "V9YTdz1N7OIT"
      },
      "outputs": [],
      "source": [
        "# convert image into Lab colorspace\n",
        "# use the lightness channel as X and color channels as y\n",
        "def convertImage(image):\n",
        "  image = np.asarray(image)\n",
        "  lab_image = rgb2lab(image)\n",
        "  lab_image = (lab_image + 128) / 255\n",
        "  X = np.reshape(rgb2gray(image), (1,256,256))\n",
        "  y = np.reshape(lab_image[:,:,1:3], (2,256,256))\n",
        "  return torch.tensor(X), torch.tensor(y)"
      ]
    },
    {
      "cell_type": "code",
      "execution_count": 5,
      "metadata": {
        "id": "QjvrI7SbjyPB"
      },
      "outputs": [],
      "source": [
        "def train_model(model, loss, optimizer, N_EPOCHS, train_batches, val_batches, model_path):\n",
        "  train_loss_list = []\n",
        "  val_loss_list = []\n",
        "  best_loss = math.inf\n",
        "  for epoch in range(N_EPOCHS):\n",
        "    print(\"=======training Epoch \"+str(epoch)+\"=========\")\n",
        "    model.train()\n",
        "    train_loss_per_batch = []\n",
        "    for idx, (X_train, y_train, _) in enumerate(train_batches):\n",
        "      X_train, y_train = X_train.to(device), y_train.to(device)\n",
        "      # Sets the gradients of all optimized torch.Tensor to zero\n",
        "      optimizer.zero_grad()\n",
        "      # perform forward propagation\n",
        "      y_pred = model(X_train.float())\n",
        "      # compute loss based on predicted and true labels\n",
        "      train_loss = loss(y_pred.to(torch.float32), y_train.to(torch.float32))\n",
        "      train_loss_per_batch.append(train_loss.cpu().detach().numpy())\n",
        "      # perform backward propagation\n",
        "      train_loss.backward()\n",
        "      # update the parameters\n",
        "      optimizer.step()\n",
        "    # append mean loss of this epoch\n",
        "    l = sum(train_loss_per_batch)/len(train_loss_per_batch)\n",
        "    train_loss_list.append(l)\n",
        "    print(\"=======training loss is \"+str(l)+\"=========\")\n",
        "\n",
        "    # save validation loss for each batch\n",
        "    model.eval()\n",
        "    val_loss_per_batch = []\n",
        "    with torch.no_grad():\n",
        "      for idx, (X_val, y_val, _) in enumerate(val_batches):\n",
        "        X_val, y_val = X_val.to(device), y_val.to(device)\n",
        "        # perform forward propagation\n",
        "        y_pred = model(X_val.float())\n",
        "        # append loss in this bach\n",
        "        val_loss_per_batch.append(loss(y_pred.to(torch.float32), y_val.to(torch.float32)).cpu().detach().numpy())\n",
        "    # append mean loss of this epoch\n",
        "    l = sum(val_loss_per_batch)/len(val_loss_per_batch)\n",
        "    val_loss_list.append(l)\n",
        "    print(\"=======validation loss is \"+str(l)+\"=========\")\n",
        "    # save the model if it is the currect best one\n",
        "    if l < best_loss:\n",
        "      torch.save(model.state_dict(), model_path)\n",
        "      best_loss = l\n",
        "  return train_loss_list, val_loss_list"
      ]
    },
    {
      "cell_type": "code",
      "execution_count": 6,
      "metadata": {
        "id": "JQQiIdl386ZL"
      },
      "outputs": [],
      "source": [
        "def plot_train_results(train_loss_list, val_loss_list):\n",
        "  # plot validation loss and validation accuracy\n",
        "  plt.plot(train_loss_list, label='train loss')\n",
        "  plt.xlabel(\"Number of Epochs\")\n",
        "  plt.ylabel(\"Train Loss\")\n",
        "  plt.show()\n",
        "\n",
        "  plt.plot(val_loss_list, label='validation loss')\n",
        "  plt.xlabel(\"Number of Epochs\")\n",
        "  plt.ylabel(\"Validation Loss\")\n",
        "  plt.show()"
      ]
    },
    {
      "cell_type": "markdown",
      "metadata": {
        "id": "NFBBlXd8j2WT"
      },
      "source": [
        "# load data"
      ]
    },
    {
      "cell_type": "code",
      "source": [
        "class LABImageFolder(datasets.ImageFolder):\n",
        "  def __getitem__(self, index):\n",
        "    path, target = self.imgs[index]\n",
        "    img = self.loader(path)\n",
        "    if self.transform is not None:\n",
        "      img = self.transform(img)\n",
        "    x, y = convertImage(img)\n",
        "    if self.target_transform is not None:\n",
        "      target = self.target_transform(target)\n",
        "    return x, y, target"
      ],
      "metadata": {
        "id": "A5TjelJ0iWH3"
      },
      "execution_count": 7,
      "outputs": []
    },
    {
      "cell_type": "code",
      "execution_count": 8,
      "metadata": {
        "id": "6TzLbJ9i5Eb6"
      },
      "outputs": [],
      "source": [
        "# define constant\n",
        "BATCH_SIZE = 32\n",
        "d = \"/content/drive/MyDrive/CV/project/images_small/\"\n",
        "\n",
        "# load images into DataLoader\n",
        "# Training\n",
        "# train_transforms = transforms.Compose([transforms.RandomHorizontalFlip()])\n",
        "train_imagefolder = LABImageFolder(d+'train')\n",
        "train_batches = torch.utils.data.DataLoader(train_imagefolder, batch_size=BATCH_SIZE, shuffle=True)\n",
        "\n",
        "# Validation \n",
        "val_imagefolder = LABImageFolder(d+'val')\n",
        "val_batches = torch.utils.data.DataLoader(val_imagefolder, batch_size=BATCH_SIZE, shuffle=False)\n",
        "\n",
        "# Test \n",
        "test_imagefolder = LABImageFolder(d+'test')\n",
        "test_batches = torch.utils.data.DataLoader(test_imagefolder, batch_size=BATCH_SIZE, shuffle=False)"
      ]
    },
    {
      "cell_type": "markdown",
      "source": [
        "# models"
      ],
      "metadata": {
        "id": "ZDi_uwewDNbm"
      }
    },
    {
      "cell_type": "markdown",
      "metadata": {
        "id": "bitsKnVB8gr2"
      },
      "source": [
        "## CNN from scratch"
      ]
    },
    {
      "cell_type": "code",
      "execution_count": 8,
      "metadata": {
        "id": "HgmoeKuYFfNo"
      },
      "outputs": [],
      "source": [
        "class Net(nn.Module):\n",
        "  def __init__(self):\n",
        "    super(Net, self).__init__()\n",
        "    self.conv1 = nn.Sequential(     \n",
        "      nn.Conv2d(1, 64, kernel_size=(3, 3), padding='same'),\n",
        "      nn.ReLU(),\n",
        "      nn.Conv2d(64, 64, kernel_size=(4, 4), stride=(2, 2), padding=(1,1)),\n",
        "      nn.ReLU(),\n",
        "      nn.BatchNorm2d(64),\n",
        "    )\n",
        "    self.conv2 = nn.Sequential(     \n",
        "      nn.Conv2d(64, 128, kernel_size=(3, 3), padding='same'),\n",
        "      nn.ReLU(),\n",
        "      nn.Conv2d(128, 128, kernel_size=(4, 4), stride=(2, 2), padding=(1,1)),\n",
        "      nn.ReLU(),\n",
        "      nn.BatchNorm2d(128),\n",
        "    )\n",
        "    self.conv3 = nn.Sequential(     \n",
        "      nn.Conv2d(128, 256, kernel_size=(3, 3), padding='same'),\n",
        "      nn.ReLU(),\n",
        "      nn.Conv2d(256, 256, kernel_size=(4, 4), stride=(2, 2), padding=(1,1)),\n",
        "      nn.ReLU(),\n",
        "      nn.BatchNorm2d(256),\n",
        "    )\n",
        "    self.conv4 = nn.Sequential(     \n",
        "      nn.Conv2d(256, 512, kernel_size=(3, 3), padding='same'),\n",
        "      nn.ReLU(),\n",
        "      nn.Conv2d(512, 512, kernel_size=(3, 3), padding='same'),\n",
        "      nn.ReLU(),\n",
        "      nn.BatchNorm2d(512),\n",
        "    )\n",
        "    self.conv5 = nn.Sequential(     \n",
        "      nn.Conv2d(512, 512, kernel_size=(3, 3), padding='same'),\n",
        "      nn.ReLU(),\n",
        "      nn.Conv2d(512, 512, kernel_size=(3, 3), padding='same'),\n",
        "      nn.ReLU(),\n",
        "      nn.BatchNorm2d(512),\n",
        "    )\n",
        "    self.conv6 = nn.Sequential(     \n",
        "      nn.Conv2d(512, 512, kernel_size=(3, 3), padding='same'),\n",
        "      nn.ReLU(),\n",
        "      nn.Conv2d(512, 512, kernel_size=(3, 3), padding='same'),\n",
        "      nn.ReLU(),\n",
        "      nn.BatchNorm2d(512),\n",
        "    )\n",
        "    self.up1 = nn.Upsample(scale_factor=2, mode='bilinear')\n",
        "    self.conv7 = nn.Sequential(\n",
        "        nn.Conv2d(512, 256, kernel_size=(3, 3), padding='same'),\n",
        "        nn.ReLU(),\n",
        "        nn.BatchNorm2d(256),\n",
        "    )\n",
        "    self.up2 = nn.Upsample(scale_factor=2, mode='bilinear')\n",
        "    self.conv8 = nn.Conv2d(256, 2, kernel_size=(3, 3), padding='same')\n",
        "    self.up3 = nn.Upsample(scale_factor=2, mode='bilinear')\n",
        "  def forward(self,x):\n",
        "    x = self.conv1(x)\n",
        "    x = self.conv2(x)\n",
        "    x = self.conv3(x)\n",
        "    x = self.conv4(x)\n",
        "    x = self.conv5(x)\n",
        "    x = self.conv6(x)\n",
        "    x = torch.relu(self.conv7(self.up1(x)))\n",
        "    x = torch.relu(self.conv8(self.up2(x)))\n",
        "    return self.up3(x)"
      ]
    },
    {
      "cell_type": "code",
      "execution_count": null,
      "metadata": {
        "id": "QsPvU6zFIwj3"
      },
      "outputs": [],
      "source": [
        "model = Net().float()\n",
        "model = model.to(device)\n",
        "loss = nn.MSELoss().to(device) # mse loss\n",
        "optimizer = torch.optim.Adam(model.parameters(), lr=0.005, weight_decay=0.0) # use Adam as optimizer"
      ]
    },
    {
      "cell_type": "code",
      "execution_count": null,
      "metadata": {
        "colab": {
          "base_uri": "https://localhost:8080/"
        },
        "id": "rxOUuZf-P4un",
        "outputId": "b8753d60-f217-4e21-bb24-282969a0e698"
      },
      "outputs": [
        {
          "name": "stdout",
          "output_type": "stream",
          "text": [
            "----------------------------------------------------------------\n",
            "        Layer (type)               Output Shape         Param #\n",
            "================================================================\n",
            "            Conv2d-1         [-1, 64, 256, 256]             640\n",
            "              ReLU-2         [-1, 64, 256, 256]               0\n",
            "            Conv2d-3         [-1, 64, 128, 128]          65,600\n",
            "              ReLU-4         [-1, 64, 128, 128]               0\n",
            "       BatchNorm2d-5         [-1, 64, 128, 128]             128\n",
            "            Conv2d-6        [-1, 128, 128, 128]          73,856\n",
            "              ReLU-7        [-1, 128, 128, 128]               0\n",
            "            Conv2d-8          [-1, 128, 64, 64]         262,272\n",
            "              ReLU-9          [-1, 128, 64, 64]               0\n",
            "      BatchNorm2d-10          [-1, 128, 64, 64]             256\n",
            "           Conv2d-11          [-1, 256, 64, 64]         295,168\n",
            "             ReLU-12          [-1, 256, 64, 64]               0\n",
            "           Conv2d-13          [-1, 256, 32, 32]       1,048,832\n",
            "             ReLU-14          [-1, 256, 32, 32]               0\n",
            "      BatchNorm2d-15          [-1, 256, 32, 32]             512\n",
            "           Conv2d-16          [-1, 512, 32, 32]       1,180,160\n",
            "             ReLU-17          [-1, 512, 32, 32]               0\n",
            "           Conv2d-18          [-1, 512, 32, 32]       2,359,808\n",
            "             ReLU-19          [-1, 512, 32, 32]               0\n",
            "      BatchNorm2d-20          [-1, 512, 32, 32]           1,024\n",
            "           Conv2d-21          [-1, 512, 32, 32]       2,359,808\n",
            "             ReLU-22          [-1, 512, 32, 32]               0\n",
            "           Conv2d-23          [-1, 512, 32, 32]       2,359,808\n",
            "             ReLU-24          [-1, 512, 32, 32]               0\n",
            "      BatchNorm2d-25          [-1, 512, 32, 32]           1,024\n",
            "           Conv2d-26          [-1, 512, 32, 32]       2,359,808\n",
            "             ReLU-27          [-1, 512, 32, 32]               0\n",
            "           Conv2d-28          [-1, 512, 32, 32]       2,359,808\n",
            "             ReLU-29          [-1, 512, 32, 32]               0\n",
            "      BatchNorm2d-30          [-1, 512, 32, 32]           1,024\n",
            "         Upsample-31          [-1, 512, 64, 64]               0\n",
            "           Conv2d-32          [-1, 256, 64, 64]       1,179,904\n",
            "             ReLU-33          [-1, 256, 64, 64]               0\n",
            "      BatchNorm2d-34          [-1, 256, 64, 64]             512\n",
            "         Upsample-35        [-1, 256, 128, 128]               0\n",
            "           Conv2d-36          [-1, 2, 128, 128]           4,610\n",
            "         Upsample-37          [-1, 2, 256, 256]               0\n",
            "================================================================\n",
            "Total params: 15,914,562\n",
            "Trainable params: 15,914,562\n",
            "Non-trainable params: 0\n",
            "----------------------------------------------------------------\n",
            "Input size (MB): 0.25\n",
            "Forward/backward pass size (MB): 287.25\n",
            "Params size (MB): 60.71\n",
            "Estimated Total Size (MB): 348.21\n",
            "----------------------------------------------------------------\n"
          ]
        }
      ],
      "source": [
        "from torchsummary import summary\n",
        "summary(model, (1, 256, 256))"
      ]
    },
    {
      "cell_type": "code",
      "execution_count": null,
      "metadata": {
        "id": "5uesfaNJkDP0"
      },
      "outputs": [],
      "source": [
        "N_EPOCHS = 10"
      ]
    },
    {
      "cell_type": "code",
      "execution_count": null,
      "metadata": {
        "id": "oyyOg-In4--S"
      },
      "outputs": [],
      "source": [
        "train_loss_list, val_loss_list = train_model(model, loss, optimizer, N_EPOCHS, train_batches, val_batches, \"/content/drive/MyDrive/CV/project/cnn_model.pth\")"
      ]
    },
    {
      "cell_type": "code",
      "execution_count": null,
      "metadata": {
        "id": "a0JQVlpq-sdX"
      },
      "outputs": [],
      "source": [
        "plot_train_results(train_loss_list, val_loss_list)"
      ]
    },
    {
      "cell_type": "code",
      "execution_count": null,
      "metadata": {
        "id": "JpsNM_me-dK5"
      },
      "outputs": [],
      "source": [
        "# load best model so far\n",
        "model = Net()\n",
        "model = model.to(device)\n",
        "model.load_state_dict(torch.load('/content/drive/MyDrive/CV/project/cnn_model.pth'))\n",
        "\n",
        "for idx, (X_test, y_test, _) in enumerate(test_batches):\n",
        "  y_pred = model(X_test.float())\n",
        "  for i, y in enumerate(y_pred):\n",
        "    recover = np.zeros((256, 256, 3))\n",
        "    origin = np.zeros((256, 256, 3))\n",
        "    y = np.reshape(y.cpu().detach().numpy(), (256,256,2))\n",
        "    y_true = np.reshape(y_test[i].cpu().detach().numpy(), (256,256,2))\n",
        "    recover[:,:,0] = X_test[i].cpu()* 100\n",
        "    recover[:,:,1:] = y * 255 - 128\n",
        "    origin[:,:,0] = X_test[i].cpu()* 100\n",
        "    origin[:,:,1:] = y_true * 255 - 128\n",
        "    fig, (ax1, ax2, ax3) = plt.subplots(1, 3, sharey=True, sharex=True, figsize=(12, 6))\n",
        "    ax1.imshow(rgb2gray(lab2rgb(origin)), cmap='gray')\n",
        "    ax2.imshow(lab2rgb(recover))\n",
        "    ax3.imshow(lab2rgb(origin))\n",
        "    plt.savefig('/content/drive/MyDrive/CV/project/cnn_test_results/'+str(idx)+'_'+str(i)+'.png')"
      ]
    },
    {
      "cell_type": "markdown",
      "metadata": {
        "id": "5Qjq0D-_5S8o"
      },
      "source": [
        "## ResNet18 as encoder"
      ]
    },
    {
      "cell_type": "code",
      "execution_count": null,
      "metadata": {
        "id": "pDbBPmDW5aAF"
      },
      "outputs": [],
      "source": [
        "from torchvision.models import resnet18, ResNet18_Weights\n",
        "class PretrainNet(nn.Module):\n",
        "  def __init__(self, input_size=128):\n",
        "    super(PretrainNet, self).__init__()\n",
        "\n",
        "    # use resnet as encoder\n",
        "    resnet = models.resnet18(weights=ResNet18_Weights.DEFAULT) \n",
        "    # change the size of weights of the input layer to accept single-channel images\n",
        "    resnet.conv1.weight = nn.Parameter(resnet.conv1.weight.sum(dim=1).unsqueeze(1)) \n",
        "    # pass midlevel features to decoder\n",
        "    self.encoder = nn.Sequential(*list(resnet.children())[0:6])\n",
        "\n",
        "    ## Second half: decoder\n",
        "    self.cnn1 = nn.Sequential(     \n",
        "      nn.Conv2d(128, 128, kernel_size=3, stride=1, padding=1),\n",
        "      nn.BatchNorm2d(128),\n",
        "      nn.ReLU(),\n",
        "    )\n",
        "    self.up1 = nn.Upsample(scale_factor=2)\n",
        "    self.cnn2 = nn.Sequential(\n",
        "      nn.Conv2d(128, 64, kernel_size=3, stride=1, padding=1),\n",
        "      nn.BatchNorm2d(64),\n",
        "      nn.ReLU(),\n",
        "    )\n",
        "    self.cnn3 = nn.Sequential(\n",
        "      nn.Conv2d(64, 64, kernel_size=3, stride=1, padding=1),\n",
        "      nn.BatchNorm2d(64),\n",
        "      nn.ReLU(),\n",
        "    )\n",
        "    self.up2 = nn.Upsample(scale_factor=2)\n",
        "    self.cnn4 = nn.Sequential(\n",
        "      nn.Conv2d(64, 32, kernel_size=3, stride=1, padding=1),\n",
        "      nn.BatchNorm2d(32),\n",
        "      nn.ReLU(),\n",
        "    )\n",
        "    self.cnn5 = nn.Conv2d(32, 2, kernel_size=3, stride=1, padding=1)\n",
        "    self.up3 = nn.Upsample(scale_factor=2)\n",
        "\n",
        "  def forward(self, x):\n",
        "    x = self.encoder(x)\n",
        "    x = self.cnn1(x)\n",
        "    x = self.up1(x)\n",
        "    x = self.cnn2(x)\n",
        "    x = self.cnn3(x)\n",
        "    x = self.up2(x)\n",
        "    x = self.cnn4(x)\n",
        "    x = self.cnn5(x)\n",
        "    x = self.up3(x)\n",
        "    return x"
      ]
    },
    {
      "cell_type": "code",
      "execution_count": null,
      "metadata": {
        "id": "MIj3ftkC52U9",
        "colab": {
          "base_uri": "https://localhost:8080/",
          "height": 87,
          "referenced_widgets": [
            "458861f67909469da950bd8f233bc53c",
            "167165f76e71435e868b4c8dfd64372e",
            "193f9ce7299a42568bc7fbdff23df075",
            "65bd50f5fe4344ce80f10e76598b1919",
            "1d4c3dbb457541af956a4ec8ee15a4b6",
            "ce0a11e6b8224d11b83cd9bf962f7573",
            "1bd191f4bc4f4bd3b5d46d6f8f09a48d",
            "6cd341a8603244e4821f9a963378e821",
            "1e27ecf4ae9d49c3bc5ddd8ecedcfb06",
            "6b806854557747ad914e5866a165e94d",
            "9ec801b6473749e19030992e95345af0"
          ]
        },
        "outputId": "78b397b9-2c45-44e7-d5bd-fd64fa58a840"
      },
      "outputs": [
        {
          "output_type": "stream",
          "name": "stderr",
          "text": [
            "Downloading: \"https://download.pytorch.org/models/resnet18-f37072fd.pth\" to /root/.cache/torch/hub/checkpoints/resnet18-f37072fd.pth\n"
          ]
        },
        {
          "output_type": "display_data",
          "data": {
            "text/plain": [
              "  0%|          | 0.00/44.7M [00:00<?, ?B/s]"
            ],
            "application/vnd.jupyter.widget-view+json": {
              "version_major": 2,
              "version_minor": 0,
              "model_id": "458861f67909469da950bd8f233bc53c"
            }
          },
          "metadata": {}
        }
      ],
      "source": [
        "model = PretrainNet().float()\n",
        "model = model.to(device)\n",
        "loss = nn.L1Loss().to(device) # mse loss\n",
        "optimizer = torch.optim.Adam(model.parameters(),lr=0.001) # use Adam as optimizer"
      ]
    },
    {
      "cell_type": "code",
      "execution_count": null,
      "metadata": {
        "colab": {
          "base_uri": "https://localhost:8080/"
        },
        "id": "QjUjITYL3bz2",
        "outputId": "dca0278d-a666-4bc1-bc78-427c07c426d5"
      },
      "outputs": [
        {
          "output_type": "stream",
          "name": "stdout",
          "text": [
            "----------------------------------------------------------------\n",
            "        Layer (type)               Output Shape         Param #\n",
            "================================================================\n",
            "            Conv2d-1         [-1, 64, 128, 128]           3,136\n",
            "       BatchNorm2d-2         [-1, 64, 128, 128]             128\n",
            "              ReLU-3         [-1, 64, 128, 128]               0\n",
            "         MaxPool2d-4           [-1, 64, 64, 64]               0\n",
            "            Conv2d-5           [-1, 64, 64, 64]          36,864\n",
            "       BatchNorm2d-6           [-1, 64, 64, 64]             128\n",
            "              ReLU-7           [-1, 64, 64, 64]               0\n",
            "            Conv2d-8           [-1, 64, 64, 64]          36,864\n",
            "       BatchNorm2d-9           [-1, 64, 64, 64]             128\n",
            "             ReLU-10           [-1, 64, 64, 64]               0\n",
            "       BasicBlock-11           [-1, 64, 64, 64]               0\n",
            "           Conv2d-12           [-1, 64, 64, 64]          36,864\n",
            "      BatchNorm2d-13           [-1, 64, 64, 64]             128\n",
            "             ReLU-14           [-1, 64, 64, 64]               0\n",
            "           Conv2d-15           [-1, 64, 64, 64]          36,864\n",
            "      BatchNorm2d-16           [-1, 64, 64, 64]             128\n",
            "             ReLU-17           [-1, 64, 64, 64]               0\n",
            "       BasicBlock-18           [-1, 64, 64, 64]               0\n",
            "           Conv2d-19          [-1, 128, 32, 32]          73,728\n",
            "      BatchNorm2d-20          [-1, 128, 32, 32]             256\n",
            "             ReLU-21          [-1, 128, 32, 32]               0\n",
            "           Conv2d-22          [-1, 128, 32, 32]         147,456\n",
            "      BatchNorm2d-23          [-1, 128, 32, 32]             256\n",
            "           Conv2d-24          [-1, 128, 32, 32]           8,192\n",
            "      BatchNorm2d-25          [-1, 128, 32, 32]             256\n",
            "             ReLU-26          [-1, 128, 32, 32]               0\n",
            "       BasicBlock-27          [-1, 128, 32, 32]               0\n",
            "           Conv2d-28          [-1, 128, 32, 32]         147,456\n",
            "      BatchNorm2d-29          [-1, 128, 32, 32]             256\n",
            "             ReLU-30          [-1, 128, 32, 32]               0\n",
            "           Conv2d-31          [-1, 128, 32, 32]         147,456\n",
            "      BatchNorm2d-32          [-1, 128, 32, 32]             256\n",
            "             ReLU-33          [-1, 128, 32, 32]               0\n",
            "       BasicBlock-34          [-1, 128, 32, 32]               0\n",
            "           Conv2d-35          [-1, 128, 32, 32]         147,584\n",
            "      BatchNorm2d-36          [-1, 128, 32, 32]             256\n",
            "             ReLU-37          [-1, 128, 32, 32]               0\n",
            "         Upsample-38          [-1, 128, 64, 64]               0\n",
            "           Conv2d-39           [-1, 64, 64, 64]          73,792\n",
            "      BatchNorm2d-40           [-1, 64, 64, 64]             128\n",
            "             ReLU-41           [-1, 64, 64, 64]               0\n",
            "           Conv2d-42           [-1, 64, 64, 64]          36,928\n",
            "      BatchNorm2d-43           [-1, 64, 64, 64]             128\n",
            "             ReLU-44           [-1, 64, 64, 64]               0\n",
            "         Upsample-45         [-1, 64, 128, 128]               0\n",
            "           Conv2d-46         [-1, 32, 128, 128]          18,464\n",
            "      BatchNorm2d-47         [-1, 32, 128, 128]              64\n",
            "             ReLU-48         [-1, 32, 128, 128]               0\n",
            "           Conv2d-49          [-1, 2, 128, 128]             578\n",
            "         Upsample-50          [-1, 2, 256, 256]               0\n",
            "================================================================\n",
            "Total params: 954,722\n",
            "Trainable params: 954,722\n",
            "Non-trainable params: 0\n",
            "----------------------------------------------------------------\n",
            "Input size (MB): 0.25\n",
            "Forward/backward pass size (MB): 110.25\n",
            "Params size (MB): 3.64\n",
            "Estimated Total Size (MB): 114.14\n",
            "----------------------------------------------------------------\n"
          ]
        }
      ],
      "source": [
        "from torchsummary import summary\n",
        "summary(model, (1, 256, 256))"
      ]
    },
    {
      "cell_type": "code",
      "execution_count": null,
      "metadata": {
        "id": "jiDCHTo0WuXq"
      },
      "outputs": [],
      "source": [
        "N_EPOCHS = 20"
      ]
    },
    {
      "cell_type": "code",
      "execution_count": null,
      "metadata": {
        "colab": {
          "base_uri": "https://localhost:8080/"
        },
        "id": "AmY3Azh4Wpra",
        "outputId": "c997d857-3b8a-480b-9662-4262c4f2eecf"
      },
      "outputs": [
        {
          "output_type": "stream",
          "name": "stdout",
          "text": [
            "=======training Epoch 0=========\n",
            "=======training loss is 0.051554308303377844=========\n",
            "=======validation loss is 0.04378428395305361=========\n",
            "=======training Epoch 1=========\n",
            "=======training loss is 0.043796828497539866=========\n",
            "=======validation loss is 0.04341811750616346=========\n",
            "=======training Epoch 2=========\n",
            "=======training loss is 0.04353514217517593=========\n",
            "=======validation loss is 0.043631209433078764=========\n",
            "=======training Epoch 3=========\n",
            "=======training loss is 0.04352788858792998=========\n",
            "=======validation loss is 0.0444058677979878=========\n",
            "=======training Epoch 4=========\n",
            "=======training loss is 0.04325494320555167=========\n",
            "=======validation loss is 0.043324642309120726=========\n",
            "=======training Epoch 5=========\n",
            "=======training loss is 0.043310336511243476=========\n",
            "=======validation loss is 0.04324839168361255=========\n",
            "=======training Epoch 6=========\n",
            "=======training loss is 0.043034148053689436=========\n",
            "=======validation loss is 0.04345658804689135=========\n",
            "=======training Epoch 7=========\n",
            "=======training loss is 0.043137793351303445=========\n",
            "=======validation loss is 0.04371984643595559=========\n",
            "=======training Epoch 8=========\n",
            "=======training loss is 0.043440326343883166=========\n",
            "=======validation loss is 0.04486367298024041=========\n",
            "=======training Epoch 9=========\n",
            "=======training loss is 0.04319382866675203=========\n",
            "=======validation loss is 0.042987589005913054=========\n",
            "=======training Epoch 10=========\n",
            "=======training loss is 0.04297249750657515=========\n",
            "=======validation loss is 0.04379885909812791=========\n",
            "=======training Epoch 11=========\n",
            "=======training loss is 0.04284455369819294=========\n",
            "=======validation loss is 0.04254748065556799=========\n",
            "=======training Epoch 12=========\n",
            "=======training loss is 0.04274816888299855=========\n",
            "=======validation loss is 0.04294767848082951=========\n",
            "=======training Epoch 13=========\n",
            "=======training loss is 0.042917007817463444=========\n",
            "=======validation loss is 0.04280795454978943=========\n",
            "=======training Epoch 14=========\n",
            "=======training loss is 0.04263587319038131=========\n",
            "=======validation loss is 0.04542867051703589=========\n",
            "=======training Epoch 15=========\n",
            "=======training loss is 0.04259726409207691=========\n",
            "=======validation loss is 0.04388304001518658=========\n",
            "=======training Epoch 16=========\n",
            "=======training loss is 0.04253422812982039=========\n",
            "=======validation loss is 0.04243567511439324=========\n",
            "=======training Epoch 17=========\n",
            "=======training loss is 0.042269191985780545=========\n",
            "=======validation loss is 0.04383079803415707=========\n",
            "=======training Epoch 18=========\n",
            "=======training loss is 0.04235304881225933=========\n",
            "=======validation loss is 0.046412293719393864=========\n",
            "=======training Epoch 19=========\n",
            "=======training loss is 0.042301730770956385=========\n",
            "=======validation loss is 0.0427027063710349=========\n"
          ]
        }
      ],
      "source": [
        "train_loss_list, val_loss_list = train_model(model, loss, optimizer, N_EPOCHS, train_batches, val_batches, \"/content/drive/MyDrive/CV/project/resnet18_l1_model.pth\")"
      ]
    },
    {
      "cell_type": "code",
      "execution_count": null,
      "metadata": {
        "colab": {
          "base_uri": "https://localhost:8080/",
          "height": 545
        },
        "id": "JulnOVTgaPVR",
        "outputId": "bf776fb8-9191-4bf6-e6e8-0e60ee1f2203"
      },
      "outputs": [
        {
          "output_type": "display_data",
          "data": {
            "text/plain": [
              "<Figure size 432x288 with 1 Axes>"
            ],
            "image/png": "[encoded data removed]"
          },
          "metadata": {
            "needs_background": "light"
          }
        },
        {
          "output_type": "display_data",
          "data": {
            "text/plain": [
              "<Figure size 432x288 with 1 Axes>"
            ],
            "image/png": "[encoded data removed]"
          },
          "metadata": {
            "needs_background": "light"
          }
        }
      ],
      "source": [
        "plot_train_results(train_loss_list, val_loss_list)"
      ]
    },
    {
      "cell_type": "code",
      "source": [
        "# load best model so far\n",
        "model = PretrainNet()\n",
        "model = model#.to(device)\n",
        "model.load_state_dict(torch.load('/content/drive/MyDrive/CV/project/resnet18_l1_model.pth'))\n",
        "\n",
        "for idx, (X_test, y_test, _) in enumerate(test_batches):\n",
        "      #X_test, y_test = X_test.to(device), y_test.to(device)\n",
        "      # perform forward propagation\n",
        "      y_pred = model(X_test.float())\n",
        "      for i, y in enumerate(y_pred):\n",
        "        recover = np.zeros((256, 256, 3))\n",
        "        origin = np.zeros((256, 256, 3))\n",
        "        y = np.reshape(y.cpu().detach().numpy(), (256,256,2))\n",
        "        y_true = np.reshape(y_test[i].cpu().detach().numpy(), (256,256,2))\n",
        "        recover[:,:,0] = X_test[i].cpu()* 100\n",
        "        recover[:,:,1:] = y * 255 - 128\n",
        "        origin[:,:,0] = X_test[i].cpu()* 100\n",
        "        origin[:,:,1:] = y_true * 255 - 128\n",
        "        fig, (ax1, ax2, ax3) = plt.subplots(1, 3, sharey=True, sharex=True, figsize=(12, 6))\n",
        "        ax1.imshow(rgb2gray(lab2rgb(origin)), cmap='gray')\n",
        "        ax2.imshow(lab2rgb(recover))\n",
        "        ax3.imshow(lab2rgb(origin))\n",
        "        plt.savefig('/content/drive/MyDrive/CV/project/RESNET_l1_test_results/'+str(idx)+'_'+str(i)+'.png')"
      ],
      "metadata": {
        "id": "omVpNHZwVBOV"
      },
      "execution_count": null,
      "outputs": []
    },
    {
      "cell_type": "markdown",
      "metadata": {
        "id": "f7Mm7KuVBZ6k"
      },
      "source": [
        "## U-Net with ResNet18 Backbone"
      ]
    },
    {
      "cell_type": "code",
      "execution_count": null,
      "metadata": {
        "id": "pXtWk_B4BqYY"
      },
      "outputs": [],
      "source": [
        "!pip install fastai"
      ]
    },
    {
      "cell_type": "code",
      "execution_count": null,
      "metadata": {
        "id": "ymMQnRThNA5r",
        "colab": {
          "base_uri": "https://localhost:8080/",
          "height": 87,
          "referenced_widgets": [
            "7ffada1cef49475097a239498f957bb4",
            "ae2c90f49aa54e65a217f3855d4e02e7",
            "0248c1b388654e61bc5d7e75c1967158",
            "6388e72c0b144471a0738c8cf0bf64c0",
            "f6cea3d5f4cc4dabb00d329439d535bf",
            "2e02c0edf41c42beb4bdc1e9543881dd",
            "aa2cb22c67974b4a9171ee4d8324d2b0",
            "cc4cc25954c242a196e637b32646df0b",
            "00966d22cfd04ae2955c3793caa5c55b",
            "0e13bcc7f16349a6921f12cd622e5c06",
            "a5df6383f2f1427189efc3336046c271"
          ]
        },
        "outputId": "a83b73a3-1abd-49d8-e257-3eca9c633775"
      },
      "outputs": [
        {
          "output_type": "stream",
          "name": "stderr",
          "text": [
            "Downloading: \"https://download.pytorch.org/models/resnet18-f37072fd.pth\" to /root/.cache/torch/hub/checkpoints/resnet18-f37072fd.pth\n"
          ]
        },
        {
          "output_type": "display_data",
          "data": {
            "text/plain": [
              "  0%|          | 0.00/44.7M [00:00<?, ?B/s]"
            ],
            "application/vnd.jupyter.widget-view+json": {
              "version_major": 2,
              "version_minor": 0,
              "model_id": "7ffada1cef49475097a239498f957bb4"
            }
          },
          "metadata": {}
        }
      ],
      "source": [
        "from fastai.vision.learner import create_body\n",
        "from torchvision.models import resnet18, ResNet18_Weights\n",
        "from fastai.vision.models.unet import DynamicUnet\n",
        "\n",
        "\n",
        "resnet = models.resnet18(weights=ResNet18_Weights.DEFAULT)\n",
        "resnet.conv1.weight = nn.Parameter(resnet.conv1.weight.sum(dim=1).unsqueeze(1)) \n",
        "resnet = nn.Sequential(*list(resnet.children())[:-2])\n",
        "model = DynamicUnet(resnet, 2, (256,256), norm_type=None, y_range=[0,1])\n",
        "model = model.to(device)\n",
        "optimizer = torch.optim.Adam(model.parameters(), lr=0.0001)\n",
        "loss = nn.L1Loss().to(device)"
      ]
    },
    {
      "cell_type": "code",
      "execution_count": null,
      "metadata": {
        "id": "rMxp2rz3P3lt",
        "colab": {
          "base_uri": "https://localhost:8080/"
        },
        "outputId": "f7d06e02-6477-4e5d-f068-d0a21a5f63c4"
      },
      "outputs": [
        {
          "output_type": "stream",
          "name": "stdout",
          "text": [
            "----------------------------------------------------------------\n",
            "        Layer (type)               Output Shape         Param #\n",
            "================================================================\n",
            "            Conv2d-1         [-1, 64, 128, 128]           3,136\n",
            "       BatchNorm2d-2         [-1, 64, 128, 128]             128\n",
            "              ReLU-3         [-1, 64, 128, 128]               0\n",
            "         MaxPool2d-4           [-1, 64, 64, 64]               0\n",
            "            Conv2d-5           [-1, 64, 64, 64]          36,864\n",
            "       BatchNorm2d-6           [-1, 64, 64, 64]             128\n",
            "              ReLU-7           [-1, 64, 64, 64]               0\n",
            "            Conv2d-8           [-1, 64, 64, 64]          36,864\n",
            "       BatchNorm2d-9           [-1, 64, 64, 64]             128\n",
            "             ReLU-10           [-1, 64, 64, 64]               0\n",
            "       BasicBlock-11           [-1, 64, 64, 64]               0\n",
            "           Conv2d-12           [-1, 64, 64, 64]          36,864\n",
            "      BatchNorm2d-13           [-1, 64, 64, 64]             128\n",
            "             ReLU-14           [-1, 64, 64, 64]               0\n",
            "           Conv2d-15           [-1, 64, 64, 64]          36,864\n",
            "      BatchNorm2d-16           [-1, 64, 64, 64]             128\n",
            "             ReLU-17           [-1, 64, 64, 64]               0\n",
            "       BasicBlock-18           [-1, 64, 64, 64]               0\n",
            "           Conv2d-19          [-1, 128, 32, 32]          73,728\n",
            "      BatchNorm2d-20          [-1, 128, 32, 32]             256\n",
            "             ReLU-21          [-1, 128, 32, 32]               0\n",
            "           Conv2d-22          [-1, 128, 32, 32]         147,456\n",
            "      BatchNorm2d-23          [-1, 128, 32, 32]             256\n",
            "           Conv2d-24          [-1, 128, 32, 32]           8,192\n",
            "      BatchNorm2d-25          [-1, 128, 32, 32]             256\n",
            "             ReLU-26          [-1, 128, 32, 32]               0\n",
            "       BasicBlock-27          [-1, 128, 32, 32]               0\n",
            "           Conv2d-28          [-1, 128, 32, 32]         147,456\n",
            "      BatchNorm2d-29          [-1, 128, 32, 32]             256\n",
            "             ReLU-30          [-1, 128, 32, 32]               0\n",
            "           Conv2d-31          [-1, 128, 32, 32]         147,456\n",
            "      BatchNorm2d-32          [-1, 128, 32, 32]             256\n",
            "             ReLU-33          [-1, 128, 32, 32]               0\n",
            "       BasicBlock-34          [-1, 128, 32, 32]               0\n",
            "           Conv2d-35          [-1, 256, 16, 16]         294,912\n",
            "      BatchNorm2d-36          [-1, 256, 16, 16]             512\n",
            "             ReLU-37          [-1, 256, 16, 16]               0\n",
            "           Conv2d-38          [-1, 256, 16, 16]         589,824\n",
            "      BatchNorm2d-39          [-1, 256, 16, 16]             512\n",
            "           Conv2d-40          [-1, 256, 16, 16]          32,768\n",
            "      BatchNorm2d-41          [-1, 256, 16, 16]             512\n",
            "             ReLU-42          [-1, 256, 16, 16]               0\n",
            "       BasicBlock-43          [-1, 256, 16, 16]               0\n",
            "           Conv2d-44          [-1, 256, 16, 16]         589,824\n",
            "      BatchNorm2d-45          [-1, 256, 16, 16]             512\n",
            "             ReLU-46          [-1, 256, 16, 16]               0\n",
            "           Conv2d-47          [-1, 256, 16, 16]         589,824\n",
            "      BatchNorm2d-48          [-1, 256, 16, 16]             512\n",
            "             ReLU-49          [-1, 256, 16, 16]               0\n",
            "       BasicBlock-50          [-1, 256, 16, 16]               0\n",
            "           Conv2d-51            [-1, 512, 8, 8]       1,179,648\n",
            "      BatchNorm2d-52            [-1, 512, 8, 8]           1,024\n",
            "             ReLU-53            [-1, 512, 8, 8]               0\n",
            "           Conv2d-54            [-1, 512, 8, 8]       2,359,296\n",
            "      BatchNorm2d-55            [-1, 512, 8, 8]           1,024\n",
            "           Conv2d-56            [-1, 512, 8, 8]         131,072\n",
            "      BatchNorm2d-57            [-1, 512, 8, 8]           1,024\n",
            "             ReLU-58            [-1, 512, 8, 8]               0\n",
            "       BasicBlock-59            [-1, 512, 8, 8]               0\n",
            "           Conv2d-60            [-1, 512, 8, 8]       2,359,296\n",
            "      BatchNorm2d-61            [-1, 512, 8, 8]           1,024\n",
            "             ReLU-62            [-1, 512, 8, 8]               0\n",
            "           Conv2d-63            [-1, 512, 8, 8]       2,359,296\n",
            "      BatchNorm2d-64            [-1, 512, 8, 8]           1,024\n",
            "             ReLU-65            [-1, 512, 8, 8]               0\n",
            "       BasicBlock-66            [-1, 512, 8, 8]               0\n",
            "      BatchNorm2d-67            [-1, 512, 8, 8]           1,024\n",
            "             ReLU-68            [-1, 512, 8, 8]               0\n",
            "           Conv2d-69           [-1, 1024, 8, 8]       4,719,616\n",
            "             ReLU-70           [-1, 1024, 8, 8]               0\n",
            "           Conv2d-71            [-1, 512, 8, 8]       4,719,104\n",
            "             ReLU-72            [-1, 512, 8, 8]               0\n",
            "           Conv2d-73           [-1, 1024, 8, 8]         525,312\n",
            "             ReLU-74           [-1, 1024, 8, 8]               0\n",
            "     PixelShuffle-75          [-1, 256, 16, 16]               0\n",
            "      BatchNorm2d-76          [-1, 256, 16, 16]             512\n",
            "             ReLU-77          [-1, 512, 16, 16]               0\n",
            "           Conv2d-78          [-1, 512, 16, 16]       2,359,808\n",
            "             ReLU-79          [-1, 512, 16, 16]               0\n",
            "           Conv2d-80          [-1, 512, 16, 16]       2,359,808\n",
            "             ReLU-81          [-1, 512, 16, 16]               0\n",
            "        UnetBlock-82          [-1, 512, 16, 16]               0\n",
            "           Conv2d-83         [-1, 1024, 16, 16]         525,312\n",
            "             ReLU-84         [-1, 1024, 16, 16]               0\n",
            "     PixelShuffle-85          [-1, 256, 32, 32]               0\n",
            "      BatchNorm2d-86          [-1, 128, 32, 32]             256\n",
            "             ReLU-87          [-1, 384, 32, 32]               0\n",
            "           Conv2d-88          [-1, 384, 32, 32]       1,327,488\n",
            "             ReLU-89          [-1, 384, 32, 32]               0\n",
            "           Conv2d-90          [-1, 384, 32, 32]       1,327,488\n",
            "             ReLU-91          [-1, 384, 32, 32]               0\n",
            "        UnetBlock-92          [-1, 384, 32, 32]               0\n",
            "           Conv2d-93          [-1, 768, 32, 32]         295,680\n",
            "             ReLU-94          [-1, 768, 32, 32]               0\n",
            "     PixelShuffle-95          [-1, 192, 64, 64]               0\n",
            "      BatchNorm2d-96           [-1, 64, 64, 64]             128\n",
            "             ReLU-97          [-1, 256, 64, 64]               0\n",
            "           Conv2d-98          [-1, 256, 64, 64]         590,080\n",
            "             ReLU-99          [-1, 256, 64, 64]               0\n",
            "          Conv2d-100          [-1, 256, 64, 64]         590,080\n",
            "            ReLU-101          [-1, 256, 64, 64]               0\n",
            "       UnetBlock-102          [-1, 256, 64, 64]               0\n",
            "          Conv2d-103          [-1, 512, 64, 64]         131,584\n",
            "            ReLU-104          [-1, 512, 64, 64]               0\n",
            "    PixelShuffle-105        [-1, 128, 128, 128]               0\n",
            "     BatchNorm2d-106         [-1, 64, 128, 128]             128\n",
            "            ReLU-107        [-1, 192, 128, 128]               0\n",
            "          Conv2d-108         [-1, 96, 128, 128]         165,984\n",
            "            ReLU-109         [-1, 96, 128, 128]               0\n",
            "          Conv2d-110         [-1, 96, 128, 128]          83,040\n",
            "            ReLU-111         [-1, 96, 128, 128]               0\n",
            "       UnetBlock-112         [-1, 96, 128, 128]               0\n",
            "          Conv2d-113        [-1, 384, 128, 128]          37,248\n",
            "            ReLU-114        [-1, 384, 128, 128]               0\n",
            "    PixelShuffle-115         [-1, 96, 256, 256]               0\n",
            "    ResizeToOrig-116         [-1, 96, 256, 256]               0\n",
            "      MergeLayer-117         [-1, 97, 256, 256]               0\n",
            "          Conv2d-118         [-1, 97, 256, 256]          84,778\n",
            "            ReLU-119         [-1, 97, 256, 256]               0\n",
            "          Conv2d-120         [-1, 97, 256, 256]          84,778\n",
            "            ReLU-121         [-1, 97, 256, 256]               0\n",
            "        ResBlock-122         [-1, 97, 256, 256]               0\n",
            "          Conv2d-123          [-1, 2, 256, 256]             196\n",
            "    SigmoidRange-124          [-1, 2, 256, 256]               0\n",
            "    ToTensorBase-125          [-1, 2, 256, 256]               0\n",
            "================================================================\n",
            "Total params: 31,099,672\n",
            "Trainable params: 31,099,672\n",
            "Non-trainable params: 0\n",
            "----------------------------------------------------------------\n",
            "Input size (MB): 0.25\n",
            "Forward/backward pass size (MB): 811.00\n",
            "Params size (MB): 118.64\n",
            "Estimated Total Size (MB): 929.89\n",
            "----------------------------------------------------------------\n"
          ]
        }
      ],
      "source": [
        "from torchsummary import summary\n",
        "summary(model, (1, 256, 256))"
      ]
    },
    {
      "cell_type": "code",
      "execution_count": null,
      "metadata": {
        "id": "TBXMsjqhQTC3"
      },
      "outputs": [],
      "source": [
        "N_EPOCHS = 10"
      ]
    },
    {
      "cell_type": "code",
      "execution_count": null,
      "metadata": {
        "colab": {
          "base_uri": "https://localhost:8080/"
        },
        "id": "Iv4y1P_QQWRw",
        "outputId": "6d471682-81ed-44f5-be5c-20a5c64b8535"
      },
      "outputs": [
        {
          "output_type": "stream",
          "name": "stdout",
          "text": [
            "=======training Epoch 0=========\n",
            "=======training loss is 0.0037691910260102966=========\n",
            "=======validation loss is 0.0032744999110166516=========\n",
            "=======training Epoch 1=========\n",
            "=======training loss is 0.0030635959117419342=========\n",
            "=======validation loss is 0.0031801774366093534=========\n",
            "=======training Epoch 2=========\n",
            "=======training loss is 0.002754964494908398=========\n",
            "=======validation loss is 0.00301040384386267=========\n",
            "=======training Epoch 3=========\n",
            "=======training loss is 0.0024726351714608346=========\n",
            "=======validation loss is 0.002988910016470722=========\n",
            "=======training Epoch 4=========\n",
            "=======training loss is 0.00226733993654224=========\n",
            "=======validation loss is 0.002927952925009387=========\n",
            "=======training Epoch 5=========\n",
            "=======training loss is 0.0021277000437575307=========\n",
            "=======validation loss is 0.002863480689536248=========\n",
            "=======training Epoch 6=========\n",
            "=======training loss is 0.0020317918735302306=========\n",
            "=======validation loss is 0.002845240051725081=========\n",
            "=======training Epoch 7=========\n",
            "=======training loss is 0.0019446656747128476=========\n",
            "=======validation loss is 0.0028359754809311457=========\n",
            "=======training Epoch 8=========\n",
            "=======training loss is 0.0018803733235902406=========\n",
            "=======validation loss is 0.0028380906608487877=========\n",
            "=======training Epoch 9=========\n",
            "=======training loss is 0.0018351519531147047=========\n",
            "=======validation loss is 0.0028533527960202523=========\n",
            "=======training Epoch 10=========\n",
            "=======training loss is 0.0017924851259555328=========\n",
            "=======validation loss is 0.002788786164351872=========\n",
            "=======training Epoch 11=========\n"
          ]
        }
      ],
      "source": [
        "train_loss_list, val_loss_list = train_model(model, loss, optimizer, N_EPOCHS, train_batches, val_batches, \"/content/drive/MyDrive/CV/project/unet_l1_model.pth\")"
      ]
    },
    {
      "cell_type": "code",
      "source": [
        "# train for more epochs\n",
        "from fastai.vision.learner import create_body\n",
        "from torchvision.models import resnet18, ResNet18_Weights\n",
        "from fastai.vision.models.unet import DynamicUnet\n",
        "\n",
        "# load best model so far\n",
        "resnet = resnet18(weights=ResNet18_Weights.DEFAULT)\n",
        "resnet.conv1.weight = nn.Parameter(resnet.conv1.weight.sum(dim=1).unsqueeze(1)) \n",
        "resnet = nn.Sequential(*list(resnet.children())[:-2])\n",
        "model = DynamicUnet(resnet, 2, (256,256), norm_type=None, y_range=[0,1])\n",
        "\n",
        "model = model.to(device)\n",
        "model.load_state_dict(torch.load('/content/drive/MyDrive/CV/project/unet_l1_model_30.pth', map_location=torch.device('cpu')))\n",
        "optimizer = torch.optim.Adam(model.parameters(), lr=0.00001)\n",
        "loss = nn.L1Loss().to(device)\n",
        "\n",
        "train_loss_list, val_loss_list = train_model(model, loss, optimizer, 10, train_batches, val_batches, \"/content/drive/MyDrive/CV/project/unet_l1_model_40.pth\")"
      ],
      "metadata": {
        "colab": {
          "base_uri": "https://localhost:8080/",
          "height": 373,
          "referenced_widgets": [
            "aaef11cd1b924324be4c76e0442a1cfd",
            "694315e3a2d24751baf5092fbca88e3f",
            "e8f7d82029e0495ca4a085acec915fd7",
            "b93061e6fccc4f92b4f858ed8e756aa2",
            "36f09a9966e14241b79908ad3187cd00",
            "43dac2b2a51a431394c8fc683bff17d9",
            "05d33fe91e35455a8b3d74692b3177db",
            "bd4388a0e18c412f90eac768238118fb",
            "9e99d5f0d4c94527876f125f9fc8c9bc",
            "e4f26868acc04d63bc75bd8fd8280316",
            "66a1264dfb8144199ce32587591c5c72"
          ]
        },
        "id": "EVTi4zbA_ZCW",
        "outputId": "acabdb94-3065-4e22-c402-972f4aeb4495"
      },
      "execution_count": null,
      "outputs": [
        {
          "output_type": "stream",
          "name": "stderr",
          "text": [
            "Downloading: \"https://download.pytorch.org/models/resnet18-f37072fd.pth\" to /root/.cache/torch/hub/checkpoints/resnet18-f37072fd.pth\n"
          ]
        },
        {
          "output_type": "display_data",
          "data": {
            "text/plain": [
              "  0%|          | 0.00/44.7M [00:00<?, ?B/s]"
            ],
            "application/vnd.jupyter.widget-view+json": {
              "version_major": 2,
              "version_minor": 0,
              "model_id": "aaef11cd1b924324be4c76e0442a1cfd"
            }
          },
          "metadata": {}
        },
        {
          "output_type": "stream",
          "name": "stdout",
          "text": [
            "=======training Epoch 0=========\n",
            "=======training loss is 0.02183348399671641=========\n",
            "=======validation loss is 0.03373880077685629=========\n",
            "=======training Epoch 1=========\n",
            "=======training loss is 0.021589356830174274=========\n",
            "=======validation loss is 0.03366397683109556=========\n",
            "=======training Epoch 2=========\n",
            "=======training loss is 0.021421202129938387=========\n",
            "=======validation loss is 0.033669689084802355=========\n",
            "=======training Epoch 3=========\n",
            "=======training loss is 0.02130087431181561=========\n",
            "=======validation loss is 0.033684360874550685=========\n",
            "=======training Epoch 4=========\n",
            "=======training loss is 0.021189087703824043=========\n",
            "=======validation loss is 0.03367855256157262=========\n",
            "=======training Epoch 5=========\n"
          ]
        }
      ]
    },
    {
      "cell_type": "code",
      "execution_count": null,
      "metadata": {
        "id": "Ts9QD96xQbGm"
      },
      "outputs": [],
      "source": [
        "plot_train_results(train_loss_list, val_loss_list)"
      ]
    },
    {
      "cell_type": "code",
      "execution_count": 1,
      "metadata": {
        "id": "HirBL3gJQezK"
      },
      "outputs": [],
      "source": [
        "from fastai.vision.learner import create_body\n",
        "from torchvision.models import resnet18, ResNet18_Weights\n",
        "from fastai.vision.models.unet import DynamicUnet\n",
        "\n",
        "# load best model so far\n",
        "resnet = resnet18(weights=ResNet18_Weights.DEFAULT)\n",
        "resnet.conv1.weight = nn.Parameter(resnet.conv1.weight.sum(dim=1).unsqueeze(1)) \n",
        "resnet = nn.Sequential(*list(resnet.children())[:-2])\n",
        "model = DynamicUnet(resnet, 2, (256,256), norm_type=None, y_range=[0,1])\n",
        "\n",
        "model = model#.to(device)\n",
        "model.load_state_dict(torch.load('/content/drive/MyDrive/CV/project/unet_l1_model_40.pth', map_location=torch.device('cpu')))\n",
        "\n",
        "for idx, (X_test, y_test, _) in enumerate(val_batches):\n",
        "      #X_test, y_test = X_test.to(device), y_test.to(device)\n",
        "      # perform forward propagation\n",
        "      y_pred = model(X_test.float())\n",
        "      for i, y in enumerate(y_pred):\n",
        "        recover = np.zeros((256, 256, 3))\n",
        "        origin = np.zeros((256, 256, 3))\n",
        "        y = np.reshape(y.cpu().detach().numpy(), (256,256,2))\n",
        "        y_true = np.reshape(y_test[i].cpu().detach().numpy(), (256,256,2))\n",
        "        recover[:,:,0] = X_test[i].cpu()* 100\n",
        "        recover[:,:,1:] = y * 255 - 128\n",
        "        origin[:,:,0] = X_test[i].cpu()* 100\n",
        "        origin[:,:,1:] = y_true * 255 - 128\n",
        "        fig, (ax1, ax2, ax3) = plt.subplots(1, 3, sharey=True, sharex=True, figsize=(12, 6))\n",
        "        ax1.imshow(rgb2gray(lab2rgb(origin)), cmap='gray')\n",
        "        ax2.imshow(lab2rgb(recover))\n",
        "        ax3.imshow(lab2rgb(origin))\n",
        "        plt.savefig('/content/drive/MyDrive/CV/project/Unet_l1_test_results/1_'+str(idx)+'_'+str(i)+'.png')\n",
        "        plt.close()"
      ]
    },
    {
      "cell_type": "markdown",
      "source": [
        "## U-Net with ResNet34 Backbone"
      ],
      "metadata": {
        "id": "U6P-yzy_ZhKj"
      }
    },
    {
      "cell_type": "code",
      "source": [
        "!pip install fastai"
      ],
      "metadata": {
        "id": "YFGgthjMZswy"
      },
      "execution_count": null,
      "outputs": []
    },
    {
      "cell_type": "code",
      "source": [
        "from fastai.vision.learner import create_body\n",
        "from torchvision.models import resnet34, ResNet34_Weights\n",
        "from fastai.vision.models.unet import DynamicUnet\n",
        "\n",
        "\n",
        "resnet = models.resnet34(weights=ResNet34_Weights.DEFAULT)\n",
        "resnet.conv1.weight = nn.Parameter(resnet.conv1.weight.sum(dim=1).unsqueeze(1)) \n",
        "resnet = nn.Sequential(*list(resnet.children())[:-2])\n",
        "model = DynamicUnet(resnet, 2, (256,256), norm_type=None, y_range=[0,1])\n",
        "model = model.to(device)\n",
        "optimizer = torch.optim.Adam(model.parameters(), lr=0.0001)\n",
        "loss = nn.MSELoss().to(device)"
      ],
      "metadata": {
        "id": "LtggKI9NZuxQ"
      },
      "execution_count": null,
      "outputs": []
    },
    {
      "cell_type": "code",
      "source": [
        "N_EPOCHS = 10"
      ],
      "metadata": {
        "id": "B7ZQfhYrZ88X"
      },
      "execution_count": null,
      "outputs": []
    },
    {
      "cell_type": "code",
      "source": [
        "train_loss_list, val_loss_list = train_model(model, loss, optimizer, N_EPOCHS, train_batches, val_batches, \"/content/drive/MyDrive/CV/project/unet34_l2_model_10.pth\")"
      ],
      "metadata": {
        "colab": {
          "base_uri": "https://localhost:8080/"
        },
        "id": "WqQSmSYWZ9Qi",
        "outputId": "c5b45e1f-87a6-4334-f57b-42340a8bbd49"
      },
      "execution_count": null,
      "outputs": [
        {
          "output_type": "stream",
          "name": "stdout",
          "text": [
            "=======training Epoch 0=========\n",
            "=======training loss is 0.00381525863639333=========\n",
            "=======validation loss is 0.0032243612554988693=========\n",
            "=======training Epoch 1=========\n",
            "=======training loss is 0.003091129767285152=========\n",
            "=======validation loss is 0.0030599587530429876=========\n",
            "=======training Epoch 2=========\n",
            "=======training loss is 0.0028033372260291467=========\n",
            "=======validation loss is 0.0031621946221483607=========\n",
            "=======training Epoch 3=========\n",
            "=======training loss is 0.0025620997726747935=========\n",
            "=======validation loss is 0.002993137655513627=========\n",
            "=======training Epoch 4=========\n",
            "=======training loss is 0.0023256905952637845=========\n",
            "=======validation loss is 0.002906697768984096=========\n",
            "=======training Epoch 5=========\n"
          ]
        }
      ]
    },
    {
      "cell_type": "code",
      "source": [
        "plot_train_results(train_loss_list, val_loss_list)"
      ],
      "metadata": {
        "id": "xB1OFPmMaBPa"
      },
      "execution_count": null,
      "outputs": []
    },
    {
      "cell_type": "code",
      "source": [
        "from fastai.vision.learner import create_body\n",
        "from torchvision.models import resnet34, ResNet34_Weights\n",
        "from fastai.vision.models.unet import DynamicUnet\n",
        "\n",
        "# load best model so far\n",
        "resnet = resnet34(weights=ResNet34_Weights.DEFAULT)\n",
        "resnet.conv1.weight = nn.Parameter(resnet.conv1.weight.sum(dim=1).unsqueeze(1)) \n",
        "resnet = nn.Sequential(*list(resnet.children())[:-2])\n",
        "model = DynamicUnet(resnet, 2, (256,256), norm_type=None, y_range=[0,1])\n",
        "\n",
        "model = model#.to(device)\n",
        "model.load_state_dict(torch.load('/content/drive/MyDrive/CV/project/unet34_l2_model.pth', map_location=torch.device('cpu')))\n",
        "\n",
        "for idx, (X_test, y_test, _) in enumerate(test_batches):\n",
        "      #X_test, y_test = X_test.to(device), y_test.to(device)\n",
        "      # perform forward propagation\n",
        "      y_pred = model(X_test.float())\n",
        "      for i, y in enumerate(y_pred):\n",
        "        recover = np.zeros((256, 256, 3))\n",
        "        origin = np.zeros((256, 256, 3))\n",
        "        y = np.reshape(y.cpu().detach().numpy(), (256,256,2))\n",
        "        y_true = np.reshape(y_test[i].cpu().detach().numpy(), (256,256,2))\n",
        "        recover[:,:,0] = X_test[i].cpu()* 100\n",
        "        recover[:,:,1:] = y * 255 - 128\n",
        "        origin[:,:,0] = X_test[i].cpu()* 100\n",
        "        origin[:,:,1:] = y_true * 255 - 128\n",
        "        fig, (ax1, ax2, ax3) = plt.subplots(1, 3, sharey=True, sharex=True, figsize=(12, 6))\n",
        "        ax1.imshow(rgb2gray(lab2rgb(origin)), cmap='gray')\n",
        "        ax2.imshow(lab2rgb(recover))\n",
        "        ax3.imshow(lab2rgb(origin))\n",
        "        plt.savefig('/content/drive/MyDrive/CV/project/Unet34_l2_test_results/'+str(idx)+'_'+str(i)+'.png')\n",
        "        plt.close()"
      ],
      "metadata": {
        "id": "P1jLQmr9aBfw"
      },
      "execution_count": 2,
      "outputs": []
    }
  ],
  "metadata": {
    "colab": {
      "collapsed_sections": [
        "riy3ZOI8e5IW",
        "6FEHei241BmO",
        "HEJ8H9XJ7rnX",
        "NFBBlXd8j2WT",
        "bitsKnVB8gr2",
        "5Qjq0D-_5S8o",
        "U6P-yzy_ZhKj"
      ],
      "provenance": [],
      "toc_visible": true
    },
    "gpuClass": "standard",
    "kernelspec": {
      "display_name": "Python 3",
      "name": "python3"
    },
    "language_info": {
      "name": "python"
    },
    "accelerator": "GPU",
    "widgets": {
      "application/vnd.jupyter.widget-state+json": {
        "7ffada1cef49475097a239498f957bb4": {
          "model_module": "@jupyter-widgets/controls",
          "model_name": "HBoxModel",
          "model_module_version": "1.5.0",
          "state": {
            "_dom_classes": [],
            "_model_module": "@jupyter-widgets/controls",
            "_model_module_version": "1.5.0",
            "_model_name": "HBoxModel",
            "_view_count": null,
            "_view_module": "@jupyter-widgets/controls",
            "_view_module_version": "1.5.0",
            "_view_name": "HBoxView",
            "box_style": "",
            "children": [
              "IPY_MODEL_ae2c90f49aa54e65a217f3855d4e02e7",
              "IPY_MODEL_0248c1b388654e61bc5d7e75c1967158",
              "IPY_MODEL_6388e72c0b144471a0738c8cf0bf64c0"
            ],
            "layout": "IPY_MODEL_f6cea3d5f4cc4dabb00d329439d535bf"
          }
        },
        "ae2c90f49aa54e65a217f3855d4e02e7": {
          "model_module": "@jupyter-widgets/controls",
          "model_name": "HTMLModel",
          "model_module_version": "1.5.0",
          "state": {
            "_dom_classes": [],
            "_model_module": "@jupyter-widgets/controls",
            "_model_module_version": "1.5.0",
            "_model_name": "HTMLModel",
            "_view_count": null,
            "_view_module": "@jupyter-widgets/controls",
            "_view_module_version": "1.5.0",
            "_view_name": "HTMLView",
            "description": "",
            "description_tooltip": null,
            "layout": "IPY_MODEL_2e02c0edf41c42beb4bdc1e9543881dd",
            "placeholder": "​",
            "style": "IPY_MODEL_aa2cb22c67974b4a9171ee4d8324d2b0",
            "value": "100%"
          }
        },
        "0248c1b388654e61bc5d7e75c1967158": {
          "model_module": "@jupyter-widgets/controls",
          "model_name": "FloatProgressModel",
          "model_module_version": "1.5.0",
          "state": {
            "_dom_classes": [],
            "_model_module": "@jupyter-widgets/controls",
            "_model_module_version": "1.5.0",
            "_model_name": "FloatProgressModel",
            "_view_count": null,
            "_view_module": "@jupyter-widgets/controls",
            "_view_module_version": "1.5.0",
            "_view_name": "ProgressView",
            "bar_style": "success",
            "description": "",
            "description_tooltip": null,
            "layout": "IPY_MODEL_cc4cc25954c242a196e637b32646df0b",
            "max": 46830571,
            "min": 0,
            "orientation": "horizontal",
            "style": "IPY_MODEL_00966d22cfd04ae2955c3793caa5c55b",
            "value": 46830571
          }
        },
        "6388e72c0b144471a0738c8cf0bf64c0": {
          "model_module": "@jupyter-widgets/controls",
          "model_name": "HTMLModel",
          "model_module_version": "1.5.0",
          "state": {
            "_dom_classes": [],
            "_model_module": "@jupyter-widgets/controls",
            "_model_module_version": "1.5.0",
            "_model_name": "HTMLModel",
            "_view_count": null,
            "_view_module": "@jupyter-widgets/controls",
            "_view_module_version": "1.5.0",
            "_view_name": "HTMLView",
            "description": "",
            "description_tooltip": null,
            "layout": "IPY_MODEL_0e13bcc7f16349a6921f12cd622e5c06",
            "placeholder": "​",
            "style": "IPY_MODEL_a5df6383f2f1427189efc3336046c271",
            "value": " 44.7M/44.7M [00:00&lt;00:00, 119MB/s]"
          }
        },
        "f6cea3d5f4cc4dabb00d329439d535bf": {
          "model_module": "@jupyter-widgets/base",
          "model_name": "LayoutModel",
          "model_module_version": "1.2.0",
          "state": {
            "_model_module": "@jupyter-widgets/base",
            "_model_module_version": "1.2.0",
            "_model_name": "LayoutModel",
            "_view_count": null,
            "_view_module": "@jupyter-widgets/base",
            "_view_module_version": "1.2.0",
            "_view_name": "LayoutView",
            "align_content": null,
            "align_items": null,
            "align_self": null,
            "border": null,
            "bottom": null,
            "display": null,
            "flex": null,
            "flex_flow": null,
            "grid_area": null,
            "grid_auto_columns": null,
            "grid_auto_flow": null,
            "grid_auto_rows": null,
            "grid_column": null,
            "grid_gap": null,
            "grid_row": null,
            "grid_template_areas": null,
            "grid_template_columns": null,
            "grid_template_rows": null,
            "height": null,
            "justify_content": null,
            "justify_items": null,
            "left": null,
            "margin": null,
            "max_height": null,
            "max_width": null,
            "min_height": null,
            "min_width": null,
            "object_fit": null,
            "object_position": null,
            "order": null,
            "overflow": null,
            "overflow_x": null,
            "overflow_y": null,
            "padding": null,
            "right": null,
            "top": null,
            "visibility": null,
            "width": null
          }
        },
        "2e02c0edf41c42beb4bdc1e9543881dd": {
          "model_module": "@jupyter-widgets/base",
          "model_name": "LayoutModel",
          "model_module_version": "1.2.0",
          "state": {
            "_model_module": "@jupyter-widgets/base",
            "_model_module_version": "1.2.0",
            "_model_name": "LayoutModel",
            "_view_count": null,
            "_view_module": "@jupyter-widgets/base",
            "_view_module_version": "1.2.0",
            "_view_name": "LayoutView",
            "align_content": null,
            "align_items": null,
            "align_self": null,
            "border": null,
            "bottom": null,
            "display": null,
            "flex": null,
            "flex_flow": null,
            "grid_area": null,
            "grid_auto_columns": null,
            "grid_auto_flow": null,
            "grid_auto_rows": null,
            "grid_column": null,
            "grid_gap": null,
            "grid_row": null,
            "grid_template_areas": null,
            "grid_template_columns": null,
            "grid_template_rows": null,
            "height": null,
            "justify_content": null,
            "justify_items": null,
            "left": null,
            "margin": null,
            "max_height": null,
            "max_width": null,
            "min_height": null,
            "min_width": null,
            "object_fit": null,
            "object_position": null,
            "order": null,
            "overflow": null,
            "overflow_x": null,
            "overflow_y": null,
            "padding": null,
            "right": null,
            "top": null,
            "visibility": null,
            "width": null
          }
        },
        "aa2cb22c67974b4a9171ee4d8324d2b0": {
          "model_module": "@jupyter-widgets/controls",
          "model_name": "DescriptionStyleModel",
          "model_module_version": "1.5.0",
          "state": {
            "_model_module": "@jupyter-widgets/controls",
            "_model_module_version": "1.5.0",
            "_model_name": "DescriptionStyleModel",
            "_view_count": null,
            "_view_module": "@jupyter-widgets/base",
            "_view_module_version": "1.2.0",
            "_view_name": "StyleView",
            "description_width": ""
          }
        },
        "cc4cc25954c242a196e637b32646df0b": {
          "model_module": "@jupyter-widgets/base",
          "model_name": "LayoutModel",
          "model_module_version": "1.2.0",
          "state": {
            "_model_module": "@jupyter-widgets/base",
            "_model_module_version": "1.2.0",
            "_model_name": "LayoutModel",
            "_view_count": null,
            "_view_module": "@jupyter-widgets/base",
            "_view_module_version": "1.2.0",
            "_view_name": "LayoutView",
            "align_content": null,
            "align_items": null,
            "align_self": null,
            "border": null,
            "bottom": null,
            "display": null,
            "flex": null,
            "flex_flow": null,
            "grid_area": null,
            "grid_auto_columns": null,
            "grid_auto_flow": null,
            "grid_auto_rows": null,
            "grid_column": null,
            "grid_gap": null,
            "grid_row": null,
            "grid_template_areas": null,
            "grid_template_columns": null,
            "grid_template_rows": null,
            "height": null,
            "justify_content": null,
            "justify_items": null,
            "left": null,
            "margin": null,
            "max_height": null,
            "max_width": null,
            "min_height": null,
            "min_width": null,
            "object_fit": null,
            "object_position": null,
            "order": null,
            "overflow": null,
            "overflow_x": null,
            "overflow_y": null,
            "padding": null,
            "right": null,
            "top": null,
            "visibility": null,
            "width": null
          }
        },
        "00966d22cfd04ae2955c3793caa5c55b": {
          "model_module": "@jupyter-widgets/controls",
          "model_name": "ProgressStyleModel",
          "model_module_version": "1.5.0",
          "state": {
            "_model_module": "@jupyter-widgets/controls",
            "_model_module_version": "1.5.0",
            "_model_name": "ProgressStyleModel",
            "_view_count": null,
            "_view_module": "@jupyter-widgets/base",
            "_view_module_version": "1.2.0",
            "_view_name": "StyleView",
            "bar_color": null,
            "description_width": ""
          }
        },
        "0e13bcc7f16349a6921f12cd622e5c06": {
          "model_module": "@jupyter-widgets/base",
          "model_name": "LayoutModel",
          "model_module_version": "1.2.0",
          "state": {
            "_model_module": "@jupyter-widgets/base",
            "_model_module_version": "1.2.0",
            "_model_name": "LayoutModel",
            "_view_count": null,
            "_view_module": "@jupyter-widgets/base",
            "_view_module_version": "1.2.0",
            "_view_name": "LayoutView",
            "align_content": null,
            "align_items": null,
            "align_self": null,
            "border": null,
            "bottom": null,
            "display": null,
            "flex": null,
            "flex_flow": null,
            "grid_area": null,
            "grid_auto_columns": null,
            "grid_auto_flow": null,
            "grid_auto_rows": null,
            "grid_column": null,
            "grid_gap": null,
            "grid_row": null,
            "grid_template_areas": null,
            "grid_template_columns": null,
            "grid_template_rows": null,
            "height": null,
            "justify_content": null,
            "justify_items": null,
            "left": null,
            "margin": null,
            "max_height": null,
            "max_width": null,
            "min_height": null,
            "min_width": null,
            "object_fit": null,
            "object_position": null,
            "order": null,
            "overflow": null,
            "overflow_x": null,
            "overflow_y": null,
            "padding": null,
            "right": null,
            "top": null,
            "visibility": null,
            "width": null
          }
        },
        "a5df6383f2f1427189efc3336046c271": {
          "model_module": "@jupyter-widgets/controls",
          "model_name": "DescriptionStyleModel",
          "model_module_version": "1.5.0",
          "state": {
            "_model_module": "@jupyter-widgets/controls",
            "_model_module_version": "1.5.0",
            "_model_name": "DescriptionStyleModel",
            "_view_count": null,
            "_view_module": "@jupyter-widgets/base",
            "_view_module_version": "1.2.0",
            "_view_name": "StyleView",
            "description_width": ""
          }
        },
        "458861f67909469da950bd8f233bc53c": {
          "model_module": "@jupyter-widgets/controls",
          "model_name": "HBoxModel",
          "model_module_version": "1.5.0",
          "state": {
            "_dom_classes": [],
            "_model_module": "@jupyter-widgets/controls",
            "_model_module_version": "1.5.0",
            "_model_name": "HBoxModel",
            "_view_count": null,
            "_view_module": "@jupyter-widgets/controls",
            "_view_module_version": "1.5.0",
            "_view_name": "HBoxView",
            "box_style": "",
            "children": [
              "IPY_MODEL_167165f76e71435e868b4c8dfd64372e",
              "IPY_MODEL_193f9ce7299a42568bc7fbdff23df075",
              "IPY_MODEL_65bd50f5fe4344ce80f10e76598b1919"
            ],
            "layout": "IPY_MODEL_1d4c3dbb457541af956a4ec8ee15a4b6"
          }
        },
        "167165f76e71435e868b4c8dfd64372e": {
          "model_module": "@jupyter-widgets/controls",
          "model_name": "HTMLModel",
          "model_module_version": "1.5.0",
          "state": {
            "_dom_classes": [],
            "_model_module": "@jupyter-widgets/controls",
            "_model_module_version": "1.5.0",
            "_model_name": "HTMLModel",
            "_view_count": null,
            "_view_module": "@jupyter-widgets/controls",
            "_view_module_version": "1.5.0",
            "_view_name": "HTMLView",
            "description": "",
            "description_tooltip": null,
            "layout": "IPY_MODEL_ce0a11e6b8224d11b83cd9bf962f7573",
            "placeholder": "​",
            "style": "IPY_MODEL_1bd191f4bc4f4bd3b5d46d6f8f09a48d",
            "value": "100%"
          }
        },
        "193f9ce7299a42568bc7fbdff23df075": {
          "model_module": "@jupyter-widgets/controls",
          "model_name": "FloatProgressModel",
          "model_module_version": "1.5.0",
          "state": {
            "_dom_classes": [],
            "_model_module": "@jupyter-widgets/controls",
            "_model_module_version": "1.5.0",
            "_model_name": "FloatProgressModel",
            "_view_count": null,
            "_view_module": "@jupyter-widgets/controls",
            "_view_module_version": "1.5.0",
            "_view_name": "ProgressView",
            "bar_style": "success",
            "description": "",
            "description_tooltip": null,
            "layout": "IPY_MODEL_6cd341a8603244e4821f9a963378e821",
            "max": 46830571,
            "min": 0,
            "orientation": "horizontal",
            "style": "IPY_MODEL_1e27ecf4ae9d49c3bc5ddd8ecedcfb06",
            "value": 46830571
          }
        },
        "65bd50f5fe4344ce80f10e76598b1919": {
          "model_module": "@jupyter-widgets/controls",
          "model_name": "HTMLModel",
          "model_module_version": "1.5.0",
          "state": {
            "_dom_classes": [],
            "_model_module": "@jupyter-widgets/controls",
            "_model_module_version": "1.5.0",
            "_model_name": "HTMLModel",
            "_view_count": null,
            "_view_module": "@jupyter-widgets/controls",
            "_view_module_version": "1.5.0",
            "_view_name": "HTMLView",
            "description": "",
            "description_tooltip": null,
            "layout": "IPY_MODEL_6b806854557747ad914e5866a165e94d",
            "placeholder": "​",
            "style": "IPY_MODEL_9ec801b6473749e19030992e95345af0",
            "value": " 44.7M/44.7M [00:00&lt;00:00, 152MB/s]"
          }
        },
        "1d4c3dbb457541af956a4ec8ee15a4b6": {
          "model_module": "@jupyter-widgets/base",
          "model_name": "LayoutModel",
          "model_module_version": "1.2.0",
          "state": {
            "_model_module": "@jupyter-widgets/base",
            "_model_module_version": "1.2.0",
            "_model_name": "LayoutModel",
            "_view_count": null,
            "_view_module": "@jupyter-widgets/base",
            "_view_module_version": "1.2.0",
            "_view_name": "LayoutView",
            "align_content": null,
            "align_items": null,
            "align_self": null,
            "border": null,
            "bottom": null,
            "display": null,
            "flex": null,
            "flex_flow": null,
            "grid_area": null,
            "grid_auto_columns": null,
            "grid_auto_flow": null,
            "grid_auto_rows": null,
            "grid_column": null,
            "grid_gap": null,
            "grid_row": null,
            "grid_template_areas": null,
            "grid_template_columns": null,
            "grid_template_rows": null,
            "height": null,
            "justify_content": null,
            "justify_items": null,
            "left": null,
            "margin": null,
            "max_height": null,
            "max_width": null,
            "min_height": null,
            "min_width": null,
            "object_fit": null,
            "object_position": null,
            "order": null,
            "overflow": null,
            "overflow_x": null,
            "overflow_y": null,
            "padding": null,
            "right": null,
            "top": null,
            "visibility": null,
            "width": null
          }
        },
        "ce0a11e6b8224d11b83cd9bf962f7573": {
          "model_module": "@jupyter-widgets/base",
          "model_name": "LayoutModel",
          "model_module_version": "1.2.0",
          "state": {
            "_model_module": "@jupyter-widgets/base",
            "_model_module_version": "1.2.0",
            "_model_name": "LayoutModel",
            "_view_count": null,
            "_view_module": "@jupyter-widgets/base",
            "_view_module_version": "1.2.0",
            "_view_name": "LayoutView",
            "align_content": null,
            "align_items": null,
            "align_self": null,
            "border": null,
            "bottom": null,
            "display": null,
            "flex": null,
            "flex_flow": null,
            "grid_area": null,
            "grid_auto_columns": null,
            "grid_auto_flow": null,
            "grid_auto_rows": null,
            "grid_column": null,
            "grid_gap": null,
            "grid_row": null,
            "grid_template_areas": null,
            "grid_template_columns": null,
            "grid_template_rows": null,
            "height": null,
            "justify_content": null,
            "justify_items": null,
            "left": null,
            "margin": null,
            "max_height": null,
            "max_width": null,
            "min_height": null,
            "min_width": null,
            "object_fit": null,
            "object_position": null,
            "order": null,
            "overflow": null,
            "overflow_x": null,
            "overflow_y": null,
            "padding": null,
            "right": null,
            "top": null,
            "visibility": null,
            "width": null
          }
        },
        "1bd191f4bc4f4bd3b5d46d6f8f09a48d": {
          "model_module": "@jupyter-widgets/controls",
          "model_name": "DescriptionStyleModel",
          "model_module_version": "1.5.0",
          "state": {
            "_model_module": "@jupyter-widgets/controls",
            "_model_module_version": "1.5.0",
            "_model_name": "DescriptionStyleModel",
            "_view_count": null,
            "_view_module": "@jupyter-widgets/base",
            "_view_module_version": "1.2.0",
            "_view_name": "StyleView",
            "description_width": ""
          }
        },
        "6cd341a8603244e4821f9a963378e821": {
          "model_module": "@jupyter-widgets/base",
          "model_name": "LayoutModel",
          "model_module_version": "1.2.0",
          "state": {
            "_model_module": "@jupyter-widgets/base",
            "_model_module_version": "1.2.0",
            "_model_name": "LayoutModel",
            "_view_count": null,
            "_view_module": "@jupyter-widgets/base",
            "_view_module_version": "1.2.0",
            "_view_name": "LayoutView",
            "align_content": null,
            "align_items": null,
            "align_self": null,
            "border": null,
            "bottom": null,
            "display": null,
            "flex": null,
            "flex_flow": null,
            "grid_area": null,
            "grid_auto_columns": null,
            "grid_auto_flow": null,
            "grid_auto_rows": null,
            "grid_column": null,
            "grid_gap": null,
            "grid_row": null,
            "grid_template_areas": null,
            "grid_template_columns": null,
            "grid_template_rows": null,
            "height": null,
            "justify_content": null,
            "justify_items": null,
            "left": null,
            "margin": null,
            "max_height": null,
            "max_width": null,
            "min_height": null,
            "min_width": null,
            "object_fit": null,
            "object_position": null,
            "order": null,
            "overflow": null,
            "overflow_x": null,
            "overflow_y": null,
            "padding": null,
            "right": null,
            "top": null,
            "visibility": null,
            "width": null
          }
        },
        "1e27ecf4ae9d49c3bc5ddd8ecedcfb06": {
          "model_module": "@jupyter-widgets/controls",
          "model_name": "ProgressStyleModel",
          "model_module_version": "1.5.0",
          "state": {
            "_model_module": "@jupyter-widgets/controls",
            "_model_module_version": "1.5.0",
            "_model_name": "ProgressStyleModel",
            "_view_count": null,
            "_view_module": "@jupyter-widgets/base",
            "_view_module_version": "1.2.0",
            "_view_name": "StyleView",
            "bar_color": null,
            "description_width": ""
          }
        },
        "6b806854557747ad914e5866a165e94d": {
          "model_module": "@jupyter-widgets/base",
          "model_name": "LayoutModel",
          "model_module_version": "1.2.0",
          "state": {
            "_model_module": "@jupyter-widgets/base",
            "_model_module_version": "1.2.0",
            "_model_name": "LayoutModel",
            "_view_count": null,
            "_view_module": "@jupyter-widgets/base",
            "_view_module_version": "1.2.0",
            "_view_name": "LayoutView",
            "align_content": null,
            "align_items": null,
            "align_self": null,
            "border": null,
            "bottom": null,
            "display": null,
            "flex": null,
            "flex_flow": null,
            "grid_area": null,
            "grid_auto_columns": null,
            "grid_auto_flow": null,
            "grid_auto_rows": null,
            "grid_column": null,
            "grid_gap": null,
            "grid_row": null,
            "grid_template_areas": null,
            "grid_template_columns": null,
            "grid_template_rows": null,
            "height": null,
            "justify_content": null,
            "justify_items": null,
            "left": null,
            "margin": null,
            "max_height": null,
            "max_width": null,
            "min_height": null,
            "min_width": null,
            "object_fit": null,
            "object_position": null,
            "order": null,
            "overflow": null,
            "overflow_x": null,
            "overflow_y": null,
            "padding": null,
            "right": null,
            "top": null,
            "visibility": null,
            "width": null
          }
        },
        "9ec801b6473749e19030992e95345af0": {
          "model_module": "@jupyter-widgets/controls",
          "model_name": "DescriptionStyleModel",
          "model_module_version": "1.5.0",
          "state": {
            "_model_module": "@jupyter-widgets/controls",
            "_model_module_version": "1.5.0",
            "_model_name": "DescriptionStyleModel",
            "_view_count": null,
            "_view_module": "@jupyter-widgets/base",
            "_view_module_version": "1.2.0",
            "_view_name": "StyleView",
            "description_width": ""
          }
        },
        "aaef11cd1b924324be4c76e0442a1cfd": {
          "model_module": "@jupyter-widgets/controls",
          "model_name": "HBoxModel",
          "model_module_version": "1.5.0",
          "state": {
            "_dom_classes": [],
            "_model_module": "@jupyter-widgets/controls",
            "_model_module_version": "1.5.0",
            "_model_name": "HBoxModel",
            "_view_count": null,
            "_view_module": "@jupyter-widgets/controls",
            "_view_module_version": "1.5.0",
            "_view_name": "HBoxView",
            "box_style": "",
            "children": [
              "IPY_MODEL_694315e3a2d24751baf5092fbca88e3f",
              "IPY_MODEL_e8f7d82029e0495ca4a085acec915fd7",
              "IPY_MODEL_b93061e6fccc4f92b4f858ed8e756aa2"
            ],
            "layout": "IPY_MODEL_36f09a9966e14241b79908ad3187cd00"
          }
        },
        "694315e3a2d24751baf5092fbca88e3f": {
          "model_module": "@jupyter-widgets/controls",
          "model_name": "HTMLModel",
          "model_module_version": "1.5.0",
          "state": {
            "_dom_classes": [],
            "_model_module": "@jupyter-widgets/controls",
            "_model_module_version": "1.5.0",
            "_model_name": "HTMLModel",
            "_view_count": null,
            "_view_module": "@jupyter-widgets/controls",
            "_view_module_version": "1.5.0",
            "_view_name": "HTMLView",
            "description": "",
            "description_tooltip": null,
            "layout": "IPY_MODEL_43dac2b2a51a431394c8fc683bff17d9",
            "placeholder": "​",
            "style": "IPY_MODEL_05d33fe91e35455a8b3d74692b3177db",
            "value": "100%"
          }
        },
        "e8f7d82029e0495ca4a085acec915fd7": {
          "model_module": "@jupyter-widgets/controls",
          "model_name": "FloatProgressModel",
          "model_module_version": "1.5.0",
          "state": {
            "_dom_classes": [],
            "_model_module": "@jupyter-widgets/controls",
            "_model_module_version": "1.5.0",
            "_model_name": "FloatProgressModel",
            "_view_count": null,
            "_view_module": "@jupyter-widgets/controls",
            "_view_module_version": "1.5.0",
            "_view_name": "ProgressView",
            "bar_style": "success",
            "description": "",
            "description_tooltip": null,
            "layout": "IPY_MODEL_bd4388a0e18c412f90eac768238118fb",
            "max": 46830571,
            "min": 0,
            "orientation": "horizontal",
            "style": "IPY_MODEL_9e99d5f0d4c94527876f125f9fc8c9bc",
            "value": 46830571
          }
        },
        "b93061e6fccc4f92b4f858ed8e756aa2": {
          "model_module": "@jupyter-widgets/controls",
          "model_name": "HTMLModel",
          "model_module_version": "1.5.0",
          "state": {
            "_dom_classes": [],
            "_model_module": "@jupyter-widgets/controls",
            "_model_module_version": "1.5.0",
            "_model_name": "HTMLModel",
            "_view_count": null,
            "_view_module": "@jupyter-widgets/controls",
            "_view_module_version": "1.5.0",
            "_view_name": "HTMLView",
            "description": "",
            "description_tooltip": null,
            "layout": "IPY_MODEL_e4f26868acc04d63bc75bd8fd8280316",
            "placeholder": "​",
            "style": "IPY_MODEL_66a1264dfb8144199ce32587591c5c72",
            "value": " 44.7M/44.7M [00:00&lt;00:00, 177MB/s]"
          }
        },
        "36f09a9966e14241b79908ad3187cd00": {
          "model_module": "@jupyter-widgets/base",
          "model_name": "LayoutModel",
          "model_module_version": "1.2.0",
          "state": {
            "_model_module": "@jupyter-widgets/base",
            "_model_module_version": "1.2.0",
            "_model_name": "LayoutModel",
            "_view_count": null,
            "_view_module": "@jupyter-widgets/base",
            "_view_module_version": "1.2.0",
            "_view_name": "LayoutView",
            "align_content": null,
            "align_items": null,
            "align_self": null,
            "border": null,
            "bottom": null,
            "display": null,
            "flex": null,
            "flex_flow": null,
            "grid_area": null,
            "grid_auto_columns": null,
            "grid_auto_flow": null,
            "grid_auto_rows": null,
            "grid_column": null,
            "grid_gap": null,
            "grid_row": null,
            "grid_template_areas": null,
            "grid_template_columns": null,
            "grid_template_rows": null,
            "height": null,
            "justify_content": null,
            "justify_items": null,
            "left": null,
            "margin": null,
            "max_height": null,
            "max_width": null,
            "min_height": null,
            "min_width": null,
            "object_fit": null,
            "object_position": null,
            "order": null,
            "overflow": null,
            "overflow_x": null,
            "overflow_y": null,
            "padding": null,
            "right": null,
            "top": null,
            "visibility": null,
            "width": null
          }
        },
        "43dac2b2a51a431394c8fc683bff17d9": {
          "model_module": "@jupyter-widgets/base",
          "model_name": "LayoutModel",
          "model_module_version": "1.2.0",
          "state": {
            "_model_module": "@jupyter-widgets/base",
            "_model_module_version": "1.2.0",
            "_model_name": "LayoutModel",
            "_view_count": null,
            "_view_module": "@jupyter-widgets/base",
            "_view_module_version": "1.2.0",
            "_view_name": "LayoutView",
            "align_content": null,
            "align_items": null,
            "align_self": null,
            "border": null,
            "bottom": null,
            "display": null,
            "flex": null,
            "flex_flow": null,
            "grid_area": null,
            "grid_auto_columns": null,
            "grid_auto_flow": null,
            "grid_auto_rows": null,
            "grid_column": null,
            "grid_gap": null,
            "grid_row": null,
            "grid_template_areas": null,
            "grid_template_columns": null,
            "grid_template_rows": null,
            "height": null,
            "justify_content": null,
            "justify_items": null,
            "left": null,
            "margin": null,
            "max_height": null,
            "max_width": null,
            "min_height": null,
            "min_width": null,
            "object_fit": null,
            "object_position": null,
            "order": null,
            "overflow": null,
            "overflow_x": null,
            "overflow_y": null,
            "padding": null,
            "right": null,
            "top": null,
            "visibility": null,
            "width": null
          }
        },
        "05d33fe91e35455a8b3d74692b3177db": {
          "model_module": "@jupyter-widgets/controls",
          "model_name": "DescriptionStyleModel",
          "model_module_version": "1.5.0",
          "state": {
            "_model_module": "@jupyter-widgets/controls",
            "_model_module_version": "1.5.0",
            "_model_name": "DescriptionStyleModel",
            "_view_count": null,
            "_view_module": "@jupyter-widgets/base",
            "_view_module_version": "1.2.0",
            "_view_name": "StyleView",
            "description_width": ""
          }
        },
        "bd4388a0e18c412f90eac768238118fb": {
          "model_module": "@jupyter-widgets/base",
          "model_name": "LayoutModel",
          "model_module_version": "1.2.0",
          "state": {
            "_model_module": "@jupyter-widgets/base",
            "_model_module_version": "1.2.0",
            "_model_name": "LayoutModel",
            "_view_count": null,
            "_view_module": "@jupyter-widgets/base",
            "_view_module_version": "1.2.0",
            "_view_name": "LayoutView",
            "align_content": null,
            "align_items": null,
            "align_self": null,
            "border": null,
            "bottom": null,
            "display": null,
            "flex": null,
            "flex_flow": null,
            "grid_area": null,
            "grid_auto_columns": null,
            "grid_auto_flow": null,
            "grid_auto_rows": null,
            "grid_column": null,
            "grid_gap": null,
            "grid_row": null,
            "grid_template_areas": null,
            "grid_template_columns": null,
            "grid_template_rows": null,
            "height": null,
            "justify_content": null,
            "justify_items": null,
            "left": null,
            "margin": null,
            "max_height": null,
            "max_width": null,
            "min_height": null,
            "min_width": null,
            "object_fit": null,
            "object_position": null,
            "order": null,
            "overflow": null,
            "overflow_x": null,
            "overflow_y": null,
            "padding": null,
            "right": null,
            "top": null,
            "visibility": null,
            "width": null
          }
        },
        "9e99d5f0d4c94527876f125f9fc8c9bc": {
          "model_module": "@jupyter-widgets/controls",
          "model_name": "ProgressStyleModel",
          "model_module_version": "1.5.0",
          "state": {
            "_model_module": "@jupyter-widgets/controls",
            "_model_module_version": "1.5.0",
            "_model_name": "ProgressStyleModel",
            "_view_count": null,
            "_view_module": "@jupyter-widgets/base",
            "_view_module_version": "1.2.0",
            "_view_name": "StyleView",
            "bar_color": null,
            "description_width": ""
          }
        },
        "e4f26868acc04d63bc75bd8fd8280316": {
          "model_module": "@jupyter-widgets/base",
          "model_name": "LayoutModel",
          "model_module_version": "1.2.0",
          "state": {
            "_model_module": "@jupyter-widgets/base",
            "_model_module_version": "1.2.0",
            "_model_name": "LayoutModel",
            "_view_count": null,
            "_view_module": "@jupyter-widgets/base",
            "_view_module_version": "1.2.0",
            "_view_name": "LayoutView",
            "align_content": null,
            "align_items": null,
            "align_self": null,
            "border": null,
            "bottom": null,
            "display": null,
            "flex": null,
            "flex_flow": null,
            "grid_area": null,
            "grid_auto_columns": null,
            "grid_auto_flow": null,
            "grid_auto_rows": null,
            "grid_column": null,
            "grid_gap": null,
            "grid_row": null,
            "grid_template_areas": null,
            "grid_template_columns": null,
            "grid_template_rows": null,
            "height": null,
            "justify_content": null,
            "justify_items": null,
            "left": null,
            "margin": null,
            "max_height": null,
            "max_width": null,
            "min_height": null,
            "min_width": null,
            "object_fit": null,
            "object_position": null,
            "order": null,
            "overflow": null,
            "overflow_x": null,
            "overflow_y": null,
            "padding": null,
            "right": null,
            "top": null,
            "visibility": null,
            "width": null
          }
        },
        "66a1264dfb8144199ce32587591c5c72": {
          "model_module": "@jupyter-widgets/controls",
          "model_name": "DescriptionStyleModel",
          "model_module_version": "1.5.0",
          "state": {
            "_model_module": "@jupyter-widgets/controls",
            "_model_module_version": "1.5.0",
            "_model_name": "DescriptionStyleModel",
            "_view_count": null,
            "_view_module": "@jupyter-widgets/base",
            "_view_module_version": "1.2.0",
            "_view_name": "StyleView",
            "description_width": ""
          }
        }
      }
    }
  },
  "nbformat": 4,
  "nbformat_minor": 0
}